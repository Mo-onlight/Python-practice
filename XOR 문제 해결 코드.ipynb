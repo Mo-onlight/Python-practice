{
  "nbformat": 4,
  "nbformat_minor": 0,
  "metadata": {
    "colab": {
      "provenance": [],
      "authorship_tag": "ABX9TyP69YyQhW+6y9gysAQnvcF5",
      "include_colab_link": true
    },
    "kernelspec": {
      "name": "python3",
      "display_name": "Python 3"
    },
    "language_info": {
      "name": "python"
    }
  },
  "cells": [
    {
      "cell_type": "markdown",
      "metadata": {
        "id": "view-in-github",
        "colab_type": "text"
      },
      "source": [
        "<a href=\"https://colab.research.google.com/github/Mo-onlight/Python-practice/blob/main/XOR%20%EB%AC%B8%EC%A0%9C%20%ED%95%B4%EA%B2%B0%20%EC%BD%94%EB%93%9C.ipynb\" target=\"_parent\"><img src=\"https://colab.research.google.com/assets/colab-badge.svg\" alt=\"Open In Colab\"/></a>"
      ]
    },
    {
      "cell_type": "code",
      "execution_count": 25,
      "metadata": {
        "colab": {
          "base_uri": "https://localhost:8080/"
        },
        "id": "D_CupdE_lNDH",
        "outputId": "20037fba-bcec-469b-f574-9d5cb8ad9972"
      },
      "outputs": [
        {
          "output_type": "stream",
          "name": "stdout",
          "text": [
            "0\n",
            "1\n",
            "1\n",
            "0\n"
          ]
        }
      ],
      "source": [
        "def AND(x1, x2):\n",
        "  w1, w2, b = 0.5, 0.5, -0.7\n",
        "  result = x1*w1 + x2*w2 +b\n",
        "  if result <= 0:\n",
        "    return 0\n",
        "  else:\n",
        "    return 1\n",
        "\n",
        "def OR(x1, x2):\n",
        "  w1, w2, b = 0.6, 0.6, -0.5\n",
        "  result = x1*w1 + x2*w2 + b\n",
        "  if result <= 0:\n",
        "    return 0\n",
        "  else:\n",
        "    return 1    \n",
        "\n",
        "def NAND(x1, x2):\n",
        "  w1, w2, b = -0.5, -0.5, 0.7\n",
        "  result = x1*w1 + x2*w2 + b\n",
        "  if result <= 0:\n",
        "    return 0\n",
        "  else:\n",
        "    return 1\n",
        "\n",
        "def XOR(x1, x2):\n",
        "  A = OR(x1, x2)\n",
        "  B = NAND(x1, x2)\n",
        "\n",
        "  return AND(A, B)\n",
        "\n",
        "print(XOR(0, 0))\n",
        "print(XOR(0, 1))\n",
        "print(XOR(1, 0))\n",
        "print(XOR(1, 1))\n"
      ]
    },
    {
      "cell_type": "code",
      "source": [],
      "metadata": {
        "id": "6D1pMyLYl4aH"
      },
      "execution_count": 20,
      "outputs": []
    },
    {
      "cell_type": "code",
      "source": [],
      "metadata": {
        "colab": {
          "base_uri": "https://localhost:8080/"
        },
        "id": "kZVM4nDAmBq4",
        "outputId": "2236d0f9-ac9c-4a1e-bb88-8196eb65d155"
      },
      "execution_count": 23,
      "outputs": [
        {
          "output_type": "execute_result",
          "data": {
            "text/plain": [
              "1"
            ]
          },
          "metadata": {},
          "execution_count": 23
        }
      ]
    },
    {
      "cell_type": "code",
      "source": [],
      "metadata": {
        "id": "WLS5xJHSo5wq"
      },
      "execution_count": null,
      "outputs": []
    }
  ]
}