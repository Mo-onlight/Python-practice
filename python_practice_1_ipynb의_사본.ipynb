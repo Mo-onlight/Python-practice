{
  "nbformat": 4,
  "nbformat_minor": 0,
  "metadata": {
    "colab": {
      "provenance": [],
      "authorship_tag": "ABX9TyMX05PXuASrAgQT4VJpOrzh",
      "include_colab_link": true
    },
    "kernelspec": {
      "name": "python3",
      "display_name": "Python 3"
    },
    "language_info": {
      "name": "python"
    }
  },
  "cells": [
    {
      "cell_type": "markdown",
      "metadata": {
        "id": "view-in-github",
        "colab_type": "text"
      },
      "source": [
        "<a href=\"https://colab.research.google.com/github/Mo-onlight/Python-practice/blob/main/python_practice_1_ipynb%EC%9D%98_%EC%82%AC%EB%B3%B8.ipynb\" target=\"_parent\"><img src=\"https://colab.research.google.com/assets/colab-badge.svg\" alt=\"Open In Colab\"/></a>"
      ]
    },
    {
      "cell_type": "markdown",
      "source": [
        "# Python 기초 문법\n"
      ],
      "metadata": {
        "id": "TpuBWLBAfEMR"
      }
    },
    {
      "cell_type": "markdown",
      "source": [
        "## 1. 사칙연산"
      ],
      "metadata": {
        "id": "GGjlthjPfeZV"
      }
    },
    {
      "cell_type": "code",
      "source": [
        "1+1\n",
        "2*2"
      ],
      "metadata": {
        "id": "r6GjucpGdC3a",
        "colab": {
          "base_uri": "https://localhost:8080/"
        },
        "outputId": "d5d8ceb8-25ad-44fc-ebf9-9999c6bade0a"
      },
      "execution_count": 2,
      "outputs": [
        {
          "output_type": "execute_result",
          "data": {
            "text/plain": [
              "4"
            ]
          },
          "metadata": {},
          "execution_count": 2
        }
      ]
    },
    {
      "cell_type": "markdown",
      "source": [
        "## 2. 변수 대입과 계산"
      ],
      "metadata": {
        "id": "1xUQeRPdfohd"
      }
    },
    {
      "cell_type": "code",
      "source": [
        "a = 1\n",
        "b = 2"
      ],
      "metadata": {
        "id": "qrpORojGfy_6"
      },
      "execution_count": 3,
      "outputs": []
    },
    {
      "cell_type": "code",
      "source": [
        "a+b"
      ],
      "metadata": {
        "colab": {
          "base_uri": "https://localhost:8080/"
        },
        "id": "u5Acd_W3f84k",
        "outputId": "98af23b5-68b5-40be-87e5-06c6770222c9"
      },
      "execution_count": 4,
      "outputs": [
        {
          "output_type": "execute_result",
          "data": {
            "text/plain": [
              "3"
            ]
          },
          "metadata": {},
          "execution_count": 4
        }
      ]
    },
    {
      "cell_type": "markdown",
      "source": [
        "## 3. 변수 문자 대입과 출력\n",
        "\n"
      ],
      "metadata": {
        "id": "IGWDb2u2gEYL"
      }
    },
    {
      "cell_type": "code",
      "source": [
        " a = \"Hello World\"\n",
        " print(a)"
      ],
      "metadata": {
        "colab": {
          "base_uri": "https://localhost:8080/"
        },
        "id": "6MSEBRV1gIeE",
        "outputId": "41b2589d-6b6c-4150-a5df-dff8503d3e72"
      },
      "execution_count": 5,
      "outputs": [
        {
          "output_type": "stream",
          "name": "stdout",
          "text": [
            "Hello World\n"
          ]
        }
      ]
    },
    {
      "cell_type": "markdown",
      "source": [
        "## 4. 조건문"
      ],
      "metadata": {
        "id": "XurJvOhWgXfA"
      }
    },
    {
      "cell_type": "code",
      "source": [
        "a = 2\n",
        "if a > 1: # 파이썬은 콜론을 쓴다\n",
        "  print(\"a is greater than 1\") # if 문 다음은 들여쓰기(tab) 반드시 수행되어야 함"
      ],
      "metadata": {
        "colab": {
          "base_uri": "https://localhost:8080/"
        },
        "id": "z6-Jy6YYhHAp",
        "outputId": "9bda7202-7a1b-4dfa-af8a-615bc269fc98"
      },
      "execution_count": 7,
      "outputs": [
        {
          "output_type": "stream",
          "name": "stdout",
          "text": [
            "a is greater than 1\n"
          ]
        }
      ]
    },
    {
      "cell_type": "markdown",
      "source": [
        "## 5. 반복문"
      ],
      "metadata": {
        "id": "sDHTHOa5hSn5"
      }
    },
    {
      "cell_type": "code",
      "source": [
        "for a in [1, 2, 3]: # 제어문에서 더 자세히 다룸\n",
        "  print(a)"
      ],
      "metadata": {
        "colab": {
          "base_uri": "https://localhost:8080/"
        },
        "id": "3EbQvotdhXDp",
        "outputId": "b9249fe1-3fb7-47d3-cfd5-e0cb46fdde4a"
      },
      "execution_count": 8,
      "outputs": [
        {
          "output_type": "stream",
          "name": "stdout",
          "text": [
            "1\n",
            "2\n",
            "3\n"
          ]
        }
      ]
    },
    {
      "cell_type": "code",
      "source": [
        "i = 0\n",
        "while i < 3: # i가 3보다 작을 때까지 i를 출력해라 \n",
        "  i = i+1\n",
        "  print(i)"
      ],
      "metadata": {
        "colab": {
          "base_uri": "https://localhost:8080/"
        },
        "id": "ZS4ktiqniDpx",
        "outputId": "a679d209-869f-49ad-80d2-856ab5a6c670"
      },
      "execution_count": 9,
      "outputs": [
        {
          "output_type": "stream",
          "name": "stdout",
          "text": [
            "1\n",
            "2\n",
            "3\n"
          ]
        }
      ]
    },
    {
      "cell_type": "markdown",
      "source": [
        "## 6. 함수"
      ],
      "metadata": {
        "id": "ncKvI8O5h_Qa"
      }
    },
    {
      "cell_type": "code",
      "source": [
        "def add(a,b): # def(함수선언) add(함수명), a,b(인자)\n",
        "  return a*b # return(반환)"
      ],
      "metadata": {
        "id": "cBjx1YEiidDJ"
      },
      "execution_count": 12,
      "outputs": []
    },
    {
      "cell_type": "code",
      "source": [
        "add(3,4)"
      ],
      "metadata": {
        "colab": {
          "base_uri": "https://localhost:8080/"
        },
        "id": "nSVpIDVri5ei",
        "outputId": "25d5cbaa-2123-46d9-96bc-eefb01b9c345"
      },
      "execution_count": 13,
      "outputs": [
        {
          "output_type": "execute_result",
          "data": {
            "text/plain": [
              "12"
            ]
          },
          "metadata": {},
          "execution_count": 13
        }
      ]
    },
    {
      "cell_type": "markdown",
      "source": [
        "# Python 제어문"
      ],
      "metadata": {
        "id": "jtJsoqgajDGj"
      }
    },
    {
      "cell_type": "markdown",
      "source": [
        "## Python의 조건문(if)\n",
        "\n",
        "\n",
        "---\n",
        "\n",
        "\n",
        "\n"
      ],
      "metadata": {
        "id": "cF6hF559jw2M"
      }
    },
    {
      "cell_type": "code",
      "source": [
        "money = False\n",
        "if money:\n",
        "  print(\"택시타고 가라\")\n",
        "else:\n",
        "  print(\"걸어 가라\")"
      ],
      "metadata": {
        "colab": {
          "base_uri": "https://localhost:8080/"
        },
        "id": "dfedU8WIkFeE",
        "outputId": "cc902011-8d23-40f3-ab4d-ee22b77d3e0c"
      },
      "execution_count": 18,
      "outputs": [
        {
          "output_type": "stream",
          "name": "stdout",
          "text": [
            "걸어 가라\n"
          ]
        }
      ]
    },
    {
      "cell_type": "markdown",
      "source": [
        "\n",
        "\n",
        "---\n",
        "\n",
        "\n",
        "*   파이썬에서는 들여쓰기(indextation) 규칙을 항상 지켜야 한다.\n",
        "*   if 조건문을 사용하는 경우 클론(:)을 반드시 사용해야 한다.\n",
        "\n",
        "\n",
        "---\n",
        "\n",
        "\n",
        "\n",
        "\n"
      ],
      "metadata": {
        "id": "VBQd_BZekZwC"
      }
    },
    {
      "cell_type": "markdown",
      "source": [
        " ## Python의 비교연산자\n",
        "\n",
        "\n",
        "---\n",
        "\n",
        "\n",
        "\n",
        "\n",
        "*   x == y : x와 y는 같다\n",
        "*   y != y : x와 y는 같지 않다\n",
        "\n",
        "\n",
        "---\n",
        "\n",
        "\n",
        "\n",
        "\n"
      ],
      "metadata": {
        "id": "554X9BhKkuue"
      }
    },
    {
      "cell_type": "code",
      "source": [
        "x = 3\n",
        "y = 2\n",
        "x != y"
      ],
      "metadata": {
        "colab": {
          "base_uri": "https://localhost:8080/"
        },
        "id": "7FoNzGerlD-C",
        "outputId": "07d1d01d-49f4-4fce-e3e5-685102cb22ae"
      },
      "execution_count": 20,
      "outputs": [
        {
          "output_type": "execute_result",
          "data": {
            "text/plain": [
              "True"
            ]
          },
          "metadata": {},
          "execution_count": 20
        }
      ]
    },
    {
      "cell_type": "code",
      "source": [
        "1 in [1,2,3] # 리스트 [1,2,3]에 1이 포함되었는가? 라는 조건문"
      ],
      "metadata": {
        "colab": {
          "base_uri": "https://localhost:8080/"
        },
        "id": "-7fIom3xlHd7",
        "outputId": "c234535c-175b-4e48-a00f-aa6707ccd669"
      },
      "execution_count": 21,
      "outputs": [
        {
          "output_type": "execute_result",
          "data": {
            "text/plain": [
              "True"
            ]
          },
          "metadata": {},
          "execution_count": 21
        }
      ]
    },
    {
      "cell_type": "code",
      "source": [
        "i not in [5,6,7]"
      ],
      "metadata": {
        "colab": {
          "base_uri": "https://localhost:8080/"
        },
        "id": "co3K5Ma6loCa",
        "outputId": "d2b20c37-646b-4712-97e0-dbd2e72c439f"
      },
      "execution_count": 22,
      "outputs": [
        {
          "output_type": "execute_result",
          "data": {
            "text/plain": [
              "True"
            ]
          },
          "metadata": {},
          "execution_count": 22
        }
      ]
    },
    {
      "cell_type": "code",
      "source": [
        " pocket = ['paper', 'cellphone', 'money']\n",
        "if 'money' in pocket :\n",
        "  print(\"택시를 타고 가라\")\n",
        "else:\n",
        "  print(\"걸어 가라\")"
      ],
      "metadata": {
        "colab": {
          "base_uri": "https://localhost:8080/"
        },
        "id": "ogvn7jGLltdS",
        "outputId": "c1caf5dd-9140-45b8-d2f0-d0cdc8b1478e"
      },
      "execution_count": 23,
      "outputs": [
        {
          "output_type": "stream",
          "name": "stdout",
          "text": [
            "택시를 타고 가라\n"
          ]
        }
      ]
    },
    {
      "cell_type": "markdown",
      "source": [
        "## Python의 반복문(for)\n",
        "\n",
        "---\n",
        "python의 직관적인 특징을 가장 잘 대변해 주는 것이 for문이다. 파이썬의 for문은 매우 유용하고 문장구조가 한 눈에 쏙들어온다는 장점이 있다\n"
      ],
      "metadata": {
        "id": "Ytq7_DvimK_D"
      }
    },
    {
      "cell_type": "code",
      "source": [
        "test_list = ['one', 'two', 'tree']\n",
        "for i in test_list:\n",
        "  print(i)"
      ],
      "metadata": {
        "colab": {
          "base_uri": "https://localhost:8080/"
        },
        "id": "LZAJurhUmapi",
        "outputId": "28f66951-64a4-46c3-bf54-ac0cefea9b1a"
      },
      "execution_count": 25,
      "outputs": [
        {
          "output_type": "stream",
          "name": "stdout",
          "text": [
            "one\n",
            "two\n",
            "tree\n"
          ]
        }
      ]
    },
    {
      "cell_type": "markdown",
      "source": [
        "리스트 안에 있는 요소를 왼쪽부터 하나씩 i로 실행"
      ],
      "metadata": {
        "id": "ugyKHHPYmw9J"
      }
    },
    {
      "cell_type": "code",
      "source": [
        " a = [(1,2),(3,4),(5,6)]\n",
        " for (first, last) in a:\n",
        "   print(first + last)"
      ],
      "metadata": {
        "colab": {
          "base_uri": "https://localhost:8080/"
        },
        "id": "Scu40ZkinDmw",
        "outputId": "9aa93463-4a1c-4988-9a78-b08740dd927f"
      },
      "execution_count": 29,
      "outputs": [
        {
          "output_type": "stream",
          "name": "stdout",
          "text": [
            "3\n",
            "7\n",
            "11\n"
          ]
        }
      ]
    },
    {
      "cell_type": "markdown",
      "source": [
        " ## Python for문의 응용\n",
        "\n",
        "\n",
        "  ---\n",
        "for문의 쓰임새를 알고 위해 다음을 가정해 보자.\n",
        "  \"총 5명의 학생이 시험을 보았는데 시험 정수가 60이 넘으면 합격이고 그렇지 않으면 불합격이다. 합격인지 불합격인지 결과를 보여 주시오.\"\n",
        "\n",
        "우선 학생 5명의 시험 정수를 리스트로 표현하면 다음과 같다.* marks=[90, 25, 67, 45,80]*\n"
      ],
      "metadata": {
        "id": "eQ9KzO2on4P5"
      }
    },
    {
      "cell_type": "code",
      "source": [
        "marks = [90, 25, 67, 45, 80]\n",
        "number = 0\n",
        "for mark in marks:\n",
        "  number = number + 1\n",
        "  if mark >= 60:\n",
        "    print(\"%d번 학생은 합격입니다.\" % number) \n",
        "  else:\n",
        "    print(\"%d번 학생은 불합격입니다.\" % number) "
      ],
      "metadata": {
        "id": "9GEUpTjzoxT-",
        "colab": {
          "base_uri": "https://localhost:8080/"
        },
        "outputId": "6b001e8b-19f5-4f0d-db0a-f45488adf722"
      },
      "execution_count": 35,
      "outputs": [
        {
          "output_type": "stream",
          "name": "stdout",
          "text": [
            "1번 학생은 합격입니다.\n",
            "2번 학생은 불합격입니다.\n",
            "3번 학생은 합격입니다.\n",
            "4번 학생은 불합격입니다.\n",
            "5번 학생은 합격입니다.\n"
          ]
        }
      ]
    },
    {
      "cell_type": "markdown",
      "source": [
        "문자열 안 변수넣어서 출력\n",
        "변수를 넣을 부분에서 [%s(문자열) or 정수(%d) or 소수(%f)]  % 변수명"
      ],
      "metadata": {
        "id": "7XjyiE-1pbzM"
      }
    },
    {
      "cell_type": "code",
      "source": [
        "a = range(10)\n",
        "a"
      ],
      "metadata": {
        "colab": {
          "base_uri": "https://localhost:8080/"
        },
        "id": "yGVoFHSar0qS",
        "outputId": "f1825b89-6858-4231-d34a-6bbee679e7b5"
      },
      "execution_count": 36,
      "outputs": [
        {
          "output_type": "execute_result",
          "data": {
            "text/plain": [
              "range(0, 10)"
            ]
          },
          "metadata": {},
          "execution_count": 36
        }
      ]
    },
    {
      "cell_type": "markdown",
      "source": [
        "range(10)은 0부터 10미만의 숫자를 포함하는 range 객체를 만들어준다.\n",
        "range(시작숫자, 끝숫자) 형태 사용, *이때 끝 숫자는 미포함*"
      ],
      "metadata": {
        "id": "N1xX5qmRr4ZM"
      }
    },
    {
      "cell_type": "code",
      "source": [
        "final = 0\n",
        "for i in range(1,11):\n",
        "  final = final + i\n",
        "print(final)"
      ],
      "metadata": {
        "colab": {
          "base_uri": "https://localhost:8080/"
        },
        "id": "AWrTr5iBsFCl",
        "outputId": "5d3d3119-7df4-43fa-c710-04645d732c68"
      },
      "execution_count": 41,
      "outputs": [
        {
          "output_type": "stream",
          "name": "stdout",
          "text": [
            "55\n"
          ]
        }
      ]
    },
    {
      "cell_type": "markdown",
      "source": [
        "### [깜짝 퀴즈]\n",
        "A 학급에 총 10명의 학생이 있다. 이 학생들의 중간고사 점수는 다음과 같다,\n",
        "[70, 60, 55, 75, 95, 90, 80, 80, 85, 100]\n",
        "for문을 사용하여 A 학급의 평균 점수를 구해보자"
      ],
      "metadata": {
        "id": "LVAPtEdwsGhM"
      }
    },
    {
      "cell_type": "code",
      "source": [
        "test = [70, 60, 55, 75, 95, 90, 80, 80, 85, 100]\n",
        "total = 0\n",
        "for i in test:\n",
        "  total += i # total = total + i\n",
        "print(total/len(test))"
      ],
      "metadata": {
        "colab": {
          "base_uri": "https://localhost:8080/"
        },
        "id": "ekAAIBLatChO",
        "outputId": "63bf939f-25d9-426b-a44c-20ef90e2eb8f"
      },
      "execution_count": 44,
      "outputs": [
        {
          "output_type": "stream",
          "name": "stdout",
          "text": [
            "79.0\n"
          ]
        }
      ]
    },
    {
      "cell_type": "markdown",
      "source": [
        "### [깜짝퀴즈]\n",
        "주어진 자연수가 홀수인지 짝수인지 판별해 주는 함수(is_odd)를 작성해보자"
      ],
      "metadata": {
        "id": "1wtnDU_ftiR9"
      }
    },
    {
      "cell_type": "code",
      "source": [
        "def is_odd(a):\n",
        "  if a % 2 == 1:\n",
        "    return print(\"홀수\")\n",
        "  else:\n",
        "    return print(\"짝수\")  "
      ],
      "metadata": {
        "id": "kBVolmkAvE4b"
      },
      "execution_count": 47,
      "outputs": []
    },
    {
      "cell_type": "code",
      "source": [
        "is_odd(3)"
      ],
      "metadata": {
        "colab": {
          "base_uri": "https://localhost:8080/"
        },
        "id": "8flMBe80wrZ9",
        "outputId": "5c6c5a38-0828-445a-830b-244a5fd05f96"
      },
      "execution_count": 48,
      "outputs": [
        {
          "output_type": "stream",
          "name": "stdout",
          "text": [
            "홀수\n"
          ]
        }
      ]
    },
    {
      "cell_type": "code",
      "source": [],
      "metadata": {
        "id": "F1cTomhdwxG9"
      },
      "execution_count": null,
      "outputs": []
    }
  ]
}